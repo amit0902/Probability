{
  "nbformat": 4,
  "nbformat_minor": 0,
  "metadata": {
    "colab": {
      "name": "Random Variable & Probability.ipynb",
      "provenance": [],
      "collapsed_sections": [],
      "authorship_tag": "ABX9TyMkBSRD6OrtE+Xm8R+5kXHj",
      "include_colab_link": true
    },
    "kernelspec": {
      "name": "python3",
      "display_name": "Python 3"
    }
  },
  "cells": [
    {
      "cell_type": "markdown",
      "metadata": {
        "id": "view-in-github",
        "colab_type": "text"
      },
      "source": [
        "<a href=\"https://colab.research.google.com/github/amit0902/Probability/blob/main/Random_Variable_%26_Probability.ipynb\" target=\"_parent\"><img src=\"https://colab.research.google.com/assets/colab-badge.svg\" alt=\"Open In Colab\"/></a>"
      ]
    },
    {
      "cell_type": "markdown",
      "metadata": {
        "id": "eucitemWn7NP"
      },
      "source": [
        "# ***Probability for Continuous Normal Distribution***\r\n",
        "---"
      ]
    },
    {
      "cell_type": "markdown",
      "metadata": {
        "id": "nzzEIJMq83ow"
      },
      "source": [
        "# ***Probability for a Continuous Distribution can be solved by using Python Scipy Library or by using Z score***"
      ]
    },
    {
      "cell_type": "markdown",
      "metadata": {
        "id": "A1qze-ZSxFY5"
      },
      "source": [
        "## ***CASE - 1 : A Numercal to Showcase the probability of MPG  of Cars for the below cases:***\r\n",
        "\r\n",
        "* **P(MPG>38)**\r\n",
        "* **P(MPG<40)**\r\n",
        "* **P(20<MPG<50)** \r\n"
      ]
    },
    {
      "cell_type": "markdown",
      "metadata": {
        "id": "Vycd5oo3wSI-"
      },
      "source": [
        "## ***Importing Libraries for Data & Statistical Analysis***"
      ]
    },
    {
      "cell_type": "code",
      "metadata": {
        "id": "X4PebPoJmw8i"
      },
      "source": [
        "import pandas as pd\r\n",
        "from scipy import stats"
      ],
      "execution_count": null,
      "outputs": []
    },
    {
      "cell_type": "markdown",
      "metadata": {
        "id": "TC699lRvwjNq"
      },
      "source": [
        "### ***Reading a Data in a variable***"
      ]
    },
    {
      "cell_type": "code",
      "metadata": {
        "id": "0uIdJi02n__X"
      },
      "source": [
        "a=pd.read_csv('Cars.csv')"
      ],
      "execution_count": null,
      "outputs": []
    },
    {
      "cell_type": "markdown",
      "metadata": {
        "id": "GOltmxlGwprA"
      },
      "source": [
        "### ***Find Mean and Standard Deviation for MPG column***"
      ]
    },
    {
      "cell_type": "code",
      "metadata": {
        "colab": {
          "base_uri": "https://localhost:8080/"
        },
        "id": "JQ9Hj4uJwv4O",
        "outputId": "1fecfc29-a3fa-4f19-d2b4-6e9d50fc8dae"
      },
      "source": [
        "b=a.MPG.mean()\r\n",
        "c=a.MPG.std()\r\n",
        "print('Mean of MPG is ' + str(b))\r\n",
        "print('Standard Deviation of MPG is ' + str(c))"
      ],
      "execution_count": null,
      "outputs": [
        {
          "output_type": "stream",
          "text": [
            "Mean of MPG is 34.422075728024666\n",
            "Standard Deviation of MPG is 9.131444731795982\n"
          ],
          "name": "stdout"
        }
      ]
    },
    {
      "cell_type": "markdown",
      "metadata": {
        "id": "47oXI0BLzNa5"
      },
      "source": [
        "## ***Using Stats for finding Probability***"
      ]
    },
    {
      "cell_type": "markdown",
      "metadata": {
        "id": "vVXDVr4JzZ1u"
      },
      "source": [
        "### ***Case 1 : For finding P(MPG>38)***\r\n",
        "\r\n",
        "---\r\n",
        "\r\n"
      ]
    },
    {
      "cell_type": "code",
      "metadata": {
        "colab": {
          "base_uri": "https://localhost:8080/"
        },
        "id": "eDfRPN4-zV62",
        "outputId": "46c5fc1c-2c34-4bcd-9539-a64cecf1c9ec"
      },
      "source": [
        "d=(1-stats.norm.cdf(38,b,c))*100\r\n",
        "print('Probability of MPG>38 is ' + str(d) + ' ' + '%')"
      ],
      "execution_count": null,
      "outputs": [
        {
          "output_type": "stream",
          "text": [
            "Probability of MPG>38 is 34.759392515827045 %\n"
          ],
          "name": "stdout"
        }
      ]
    },
    {
      "cell_type": "markdown",
      "metadata": {
        "id": "VJ73t1tF0yWr"
      },
      "source": [
        "### ***Case 2 : For finding P(MPG<40)***\r\n",
        "\r\n",
        "---"
      ]
    },
    {
      "cell_type": "code",
      "metadata": {
        "colab": {
          "base_uri": "https://localhost:8080/"
        },
        "id": "Ns_PAk3r0NuX",
        "outputId": "e571fa05-1546-42cc-e3a5-e918cb9e14aa"
      },
      "source": [
        "e=(stats.norm.cdf(40,b,c))*100\r\n",
        "print('Probability of MPG<40 is ' + str(e) + ' ' + '%')"
      ],
      "execution_count": null,
      "outputs": [
        {
          "output_type": "stream",
          "text": [
            "Probability of MPG<40 is 72.93498762151616 %\n"
          ],
          "name": "stdout"
        }
      ]
    },
    {
      "cell_type": "markdown",
      "metadata": {
        "id": "8npbVYVX4xop"
      },
      "source": [
        "### ***Case 3 : For finding P(20<MPG<50)***\r\n",
        "\r\n",
        "---"
      ]
    },
    {
      "cell_type": "code",
      "metadata": {
        "id": "1HYtKbNX45E1",
        "colab": {
          "base_uri": "https://localhost:8080/"
        },
        "outputId": "d9ad8bb5-7c51-4f8d-d6a9-12763f0e8387"
      },
      "source": [
        "f=(stats.norm.cdf(20,b,c))*100\r\n",
        "g=(stats.norm.cdf(50,b,c))*100\r\n",
        "h=g-f\r\n",
        "print('Probability of 20<MPG<50 is ' + str(h) + ' ' + '%')"
      ],
      "execution_count": null,
      "outputs": [
        {
          "output_type": "stream",
          "text": [
            "Probability of 20<MPG<50 is 89.88689169682047 %\n"
          ],
          "name": "stdout"
        }
      ]
    },
    {
      "cell_type": "markdown",
      "metadata": {
        "id": "26pNFUnn9ctN"
      },
      "source": [
        "# ***Z Score Method***\r\n",
        "\r\n",
        "---\r\n",
        "\r\n"
      ]
    },
    {
      "cell_type": "markdown",
      "metadata": {
        "id": "IO-t9Hqh9oTD"
      },
      "source": [
        "### ***Case 1 : For finding P(MPG>38)***\r\n",
        "\r\n",
        "---"
      ]
    },
    {
      "cell_type": "code",
      "metadata": {
        "colab": {
          "base_uri": "https://localhost:8080/"
        },
        "id": "BhDckons9ikM",
        "outputId": "5460e199-e768-4972-a0e0-1a3029a17b78"
      },
      "source": [
        "Z_38=(38-b)/c\r\n",
        "Z_38"
      ],
      "execution_count": null,
      "outputs": [
        {
          "output_type": "execute_result",
          "data": {
            "text/plain": [
              "0.3918245553758747"
            ]
          },
          "metadata": {
            "tags": []
          },
          "execution_count": 40
        }
      ]
    },
    {
      "cell_type": "code",
      "metadata": {
        "colab": {
          "base_uri": "https://localhost:8080/"
        },
        "id": "CCZWtIayJ0ya",
        "outputId": "4f0e2654-dffb-4550-a891-e6806c313e2f"
      },
      "source": [
        "stats.norm.ppf(0.39,b,c)"
      ],
      "execution_count": null,
      "outputs": [
        {
          "output_type": "execute_result",
          "data": {
            "text/plain": [
              "31.87148940242912"
            ]
          },
          "metadata": {
            "tags": []
          },
          "execution_count": 133
        }
      ]
    },
    {
      "cell_type": "markdown",
      "metadata": {
        "id": "SJ9SMsa7o9x-"
      },
      "source": [
        "## ***CASE - 2 : Analyzing Mahindra & Mahindra Stock Market Price and its Gain and Price Probability***\r\n",
        "\r\n",
        "### ***Data Source :*** [NSE (National Stock Exchange)](https://www1.nseindia.com/products/content/equities/equities/eq_security.htm)"
      ]
    },
    {
      "cell_type": "code",
      "metadata": {
        "id": "FUrX2fKA_mcD"
      },
      "source": [
        "s=pd.read_csv('Mahindra & Mahindra Stock Data.csv')"
      ],
      "execution_count": null,
      "outputs": []
    },
    {
      "cell_type": "code",
      "metadata": {
        "colab": {
          "base_uri": "https://localhost:8080/",
          "height": 365
        },
        "id": "-864fsICJn9_",
        "outputId": "da134f19-3cd1-42f7-ee20-f18a553b7884"
      },
      "source": [
        "s.head()"
      ],
      "execution_count": null,
      "outputs": [
        {
          "output_type": "execute_result",
          "data": {
            "text/html": [
              "<div>\n",
              "<style scoped>\n",
              "    .dataframe tbody tr th:only-of-type {\n",
              "        vertical-align: middle;\n",
              "    }\n",
              "\n",
              "    .dataframe tbody tr th {\n",
              "        vertical-align: top;\n",
              "    }\n",
              "\n",
              "    .dataframe thead th {\n",
              "        text-align: right;\n",
              "    }\n",
              "</style>\n",
              "<table border=\"1\" class=\"dataframe\">\n",
              "  <thead>\n",
              "    <tr style=\"text-align: right;\">\n",
              "      <th></th>\n",
              "      <th>Symbol</th>\n",
              "      <th>Series</th>\n",
              "      <th>Date</th>\n",
              "      <th>Prev Close</th>\n",
              "      <th>Open Price</th>\n",
              "      <th>High Price</th>\n",
              "      <th>Low Price</th>\n",
              "      <th>Last Price</th>\n",
              "      <th>Close Price</th>\n",
              "      <th>Average Price</th>\n",
              "      <th>Total Traded Quantity</th>\n",
              "      <th>Turnover</th>\n",
              "      <th>No. of Trades</th>\n",
              "      <th>Deliverable Qty</th>\n",
              "      <th>% Dly Qt to Traded Qty</th>\n",
              "    </tr>\n",
              "  </thead>\n",
              "  <tbody>\n",
              "    <tr>\n",
              "      <th>0</th>\n",
              "      <td>M&amp;amp;M</td>\n",
              "      <td>EQ</td>\n",
              "      <td>06-Feb-2020</td>\n",
              "      <td>584.35</td>\n",
              "      <td>585.00</td>\n",
              "      <td>589.15</td>\n",
              "      <td>576.05</td>\n",
              "      <td>580.6</td>\n",
              "      <td>580.15</td>\n",
              "      <td>582.03</td>\n",
              "      <td>2207104</td>\n",
              "      <td>1.284590e+09</td>\n",
              "      <td>41416</td>\n",
              "      <td>778011</td>\n",
              "      <td>35.25</td>\n",
              "    </tr>\n",
              "    <tr>\n",
              "      <th>1</th>\n",
              "      <td>M&amp;amp;M</td>\n",
              "      <td>EQ</td>\n",
              "      <td>07-Feb-2020</td>\n",
              "      <td>580.15</td>\n",
              "      <td>579.00</td>\n",
              "      <td>581.50</td>\n",
              "      <td>561.30</td>\n",
              "      <td>569.0</td>\n",
              "      <td>569.10</td>\n",
              "      <td>570.38</td>\n",
              "      <td>4083215</td>\n",
              "      <td>2.328997e+09</td>\n",
              "      <td>52666</td>\n",
              "      <td>1626611</td>\n",
              "      <td>39.84</td>\n",
              "    </tr>\n",
              "    <tr>\n",
              "      <th>2</th>\n",
              "      <td>M&amp;amp;M</td>\n",
              "      <td>EQ</td>\n",
              "      <td>10-Feb-2020</td>\n",
              "      <td>569.10</td>\n",
              "      <td>566.80</td>\n",
              "      <td>567.00</td>\n",
              "      <td>526.05</td>\n",
              "      <td>528.4</td>\n",
              "      <td>528.40</td>\n",
              "      <td>539.02</td>\n",
              "      <td>9648880</td>\n",
              "      <td>5.200898e+09</td>\n",
              "      <td>149883</td>\n",
              "      <td>2540595</td>\n",
              "      <td>26.33</td>\n",
              "    </tr>\n",
              "    <tr>\n",
              "      <th>3</th>\n",
              "      <td>M&amp;amp;M</td>\n",
              "      <td>EQ</td>\n",
              "      <td>11-Feb-2020</td>\n",
              "      <td>528.40</td>\n",
              "      <td>533.20</td>\n",
              "      <td>537.70</td>\n",
              "      <td>522.70</td>\n",
              "      <td>523.9</td>\n",
              "      <td>524.05</td>\n",
              "      <td>529.57</td>\n",
              "      <td>5404802</td>\n",
              "      <td>2.862235e+09</td>\n",
              "      <td>96880</td>\n",
              "      <td>1419834</td>\n",
              "      <td>26.27</td>\n",
              "    </tr>\n",
              "    <tr>\n",
              "      <th>4</th>\n",
              "      <td>M&amp;amp;M</td>\n",
              "      <td>EQ</td>\n",
              "      <td>12-Feb-2020</td>\n",
              "      <td>524.05</td>\n",
              "      <td>526.65</td>\n",
              "      <td>534.30</td>\n",
              "      <td>523.90</td>\n",
              "      <td>531.9</td>\n",
              "      <td>531.00</td>\n",
              "      <td>529.25</td>\n",
              "      <td>3426829</td>\n",
              "      <td>1.813636e+09</td>\n",
              "      <td>69539</td>\n",
              "      <td>921023</td>\n",
              "      <td>26.88</td>\n",
              "    </tr>\n",
              "  </tbody>\n",
              "</table>\n",
              "</div>"
            ],
            "text/plain": [
              "    Symbol Series  ... Deliverable Qty  % Dly Qt to Traded Qty\n",
              "0  M&amp;M     EQ  ...          778011                   35.25\n",
              "1  M&amp;M     EQ  ...         1626611                   39.84\n",
              "2  M&amp;M     EQ  ...         2540595                   26.33\n",
              "3  M&amp;M     EQ  ...         1419834                   26.27\n",
              "4  M&amp;M     EQ  ...          921023                   26.88\n",
              "\n",
              "[5 rows x 15 columns]"
            ]
          },
          "metadata": {
            "tags": []
          },
          "execution_count": 44
        }
      ]
    },
    {
      "cell_type": "markdown",
      "metadata": {
        "id": "vKl2Zfz4eUiq"
      },
      "source": [
        "***Changing Date data type from object to Index type***"
      ]
    },
    {
      "cell_type": "code",
      "metadata": {
        "id": "wAmWVWo5rnhF"
      },
      "source": [
        "s=s.set_index(pd.DatetimeIndex(s['Date']))"
      ],
      "execution_count": null,
      "outputs": []
    },
    {
      "cell_type": "code",
      "metadata": {
        "id": "DONhAYBjJu1N"
      },
      "source": [
        "import matplotlib.pyplot as plt\r\n",
        "import seaborn as sns"
      ],
      "execution_count": null,
      "outputs": []
    },
    {
      "cell_type": "code",
      "metadata": {
        "colab": {
          "base_uri": "https://localhost:8080/",
          "height": 313
        },
        "id": "CtkKizeyJ5jU",
        "outputId": "55a74c25-ec8d-413c-8f3f-0b0e3a1e4a8d"
      },
      "source": [
        "plt.plot(s['Close Price'],color='g')\r\n",
        "plt.xlabel('Years')\r\n",
        "plt.ylabel('Close Price')\r\n",
        "plt.title('Close Price Trend')"
      ],
      "execution_count": null,
      "outputs": [
        {
          "output_type": "execute_result",
          "data": {
            "text/plain": [
              "Text(0.5, 1.0, 'Close Price Trend')"
            ]
          },
          "metadata": {
            "tags": []
          },
          "execution_count": 149
        },
        {
          "output_type": "display_data",
          "data": {
            "image/png": "[encoded data removed]",
            "text/plain": [
              "<Figure size 432x288 with 1 Axes>"
            ]
          },
          "metadata": {
            "tags": [],
            "needs_background": "light"
          }
        }
      ]
    },
    {
      "cell_type": "code",
      "metadata": {
        "colab": {
          "base_uri": "https://localhost:8080/",
          "height": 535
        },
        "id": "c3D54dE8jc4O",
        "outputId": "e1f9f09d-10a7-4248-fdca-ccfb00c9b3c1"
      },
      "source": [
        "sns.jointplot(s['Gain'],s['Close Price'],kind=\"reg\")\r\n",
        "plt.legend()"
      ],
      "execution_count": null,
      "outputs": [
        {
          "output_type": "stream",
          "text": [
            "/usr/local/lib/python3.6/dist-packages/seaborn/_decorators.py:43: FutureWarning: Pass the following variables as keyword args: x, y. From version 0.12, the only valid positional argument will be `data`, and passing other arguments without an explicit keyword will result in an error or misinterpretation.\n",
            "  FutureWarning\n",
            "No handles with labels found to put in legend.\n"
          ],
          "name": "stderr"
        },
        {
          "output_type": "execute_result",
          "data": {
            "text/plain": [
              "<matplotlib.legend.Legend at 0x7f7ea6c39278>"
            ]
          },
          "metadata": {
            "tags": []
          },
          "execution_count": 184
        },
        {
          "output_type": "display_data",
          "data": {
            "image/png": "[encoded data removed]",
            "text/plain": [
              "<Figure size 432x432 with 3 Axes>"
            ]
          },
          "metadata": {
            "tags": [],
            "needs_background": "light"
          }
        }
      ]
    },
    {
      "cell_type": "markdown",
      "metadata": {
        "id": "Oxp_Z3HpefcF"
      },
      "source": [
        "***pct_change function help in calculating percentage change in data from new and previous one.***"
      ]
    },
    {
      "cell_type": "code",
      "metadata": {
        "colab": {
          "base_uri": "https://localhost:8080/",
          "height": 297
        },
        "id": "x4MwIOWEuFJQ",
        "outputId": "1b22577b-e90a-42fc-a5e0-27323bf19d89"
      },
      "source": [
        "s['Gain']=s['Close Price'].pct_change(periods=1)\r\n",
        "s=s.dropna()\r\n",
        "plt.plot(s.index,s.Gain)\r\n",
        "plt.xlabel('Years')\r\n",
        "plt.ylabel('Gain% in Stock')"
      ],
      "execution_count": null,
      "outputs": [
        {
          "output_type": "execute_result",
          "data": {
            "text/plain": [
              "Text(0, 0.5, 'Gain% in Stock')"
            ]
          },
          "metadata": {
            "tags": []
          },
          "execution_count": 120
        },
        {
          "output_type": "display_data",
          "data": {
            "image/png": "[encoded data removed]",
            "text/plain": [
              "<Figure size 432x288 with 1 Axes>"
            ]
          },
          "metadata": {
            "tags": [],
            "needs_background": "light"
          }
        }
      ]
    },
    {
      "cell_type": "markdown",
      "metadata": {
        "id": "yrD4G8IBeuPw"
      },
      "source": [
        "***sns_distplot helps in fining Standard Normal Distribution plot for a given data***"
      ]
    },
    {
      "cell_type": "code",
      "metadata": {
        "colab": {
          "base_uri": "https://localhost:8080/",
          "height": 354
        },
        "id": "jXPEK3nDvw8L",
        "outputId": "744e1376-3120-4101-b071-43be41f41ec9"
      },
      "source": [
        "sns.distplot(s.Gain,label='Mahindra & Mahindra \\n Stock Distribution')\r\n",
        "plt.xlabel('Gain %')\r\n",
        "plt.ylabel('Density')\r\n",
        "plt.legend()"
      ],
      "execution_count": null,
      "outputs": [
        {
          "output_type": "stream",
          "text": [
            "/usr/local/lib/python3.6/dist-packages/seaborn/distributions.py:2557: FutureWarning: `distplot` is a deprecated function and will be removed in a future version. Please adapt your code to use either `displot` (a figure-level function with similar flexibility) or `histplot` (an axes-level function for histograms).\n",
            "  warnings.warn(msg, FutureWarning)\n"
          ],
          "name": "stderr"
        },
        {
          "output_type": "execute_result",
          "data": {
            "text/plain": [
              "<matplotlib.legend.Legend at 0x7f7ead0763c8>"
            ]
          },
          "metadata": {
            "tags": []
          },
          "execution_count": 115
        },
        {
          "output_type": "display_data",
          "data": {
            "image/png": "[encoded data removed]",
            "text/plain": [
              "<Figure size 432x288 with 1 Axes>"
            ]
          },
          "metadata": {
            "tags": [],
            "needs_background": "light"
          }
        }
      ]
    },
    {
      "cell_type": "code",
      "metadata": {
        "colab": {
          "base_uri": "https://localhost:8080/"
        },
        "id": "OZxcNwRzNc2I",
        "outputId": "9fd23b29-27b3-494b-ed95-19ba798f7c31"
      },
      "source": [
        "p=round(s.Gain.mean(),6)\r\n",
        "q=round(s.Gain.std(),6)\r\n",
        "print(str(p),str(q))"
      ],
      "execution_count": null,
      "outputs": [
        {
          "output_type": "stream",
          "text": [
            "0.00251 0.031798\n"
          ],
          "name": "stdout"
        }
      ]
    },
    {
      "cell_type": "markdown",
      "metadata": {
        "id": "8jUoYI55nMo7"
      },
      "source": [
        "## ***Finding Probabiity of Stock Average at 860 on date 05-02-2021***"
      ]
    },
    {
      "cell_type": "code",
      "metadata": {
        "colab": {
          "base_uri": "https://localhost:8080/"
        },
        "id": "b9vmBh3FOzZk",
        "outputId": "822c6ea0-b7a5-4285-e2c8-9de7f570463a"
      },
      "source": [
        "t=(stats.norm.cdf(860,q,r))*100\r\n",
        "t"
      ],
      "execution_count": null,
      "outputs": [
        {
          "output_type": "execute_result",
          "data": {
            "text/plain": [
              "98.1608635372632"
            ]
          },
          "metadata": {
            "tags": []
          },
          "execution_count": 97
        }
      ]
    },
    {
      "cell_type": "markdown",
      "metadata": {
        "id": "o7dadHZnyx_I"
      },
      "source": [
        "## ***Finding Probabiity of Stock at 5% Profit on date 05-02-2021***"
      ]
    },
    {
      "cell_type": "code",
      "metadata": {
        "colab": {
          "base_uri": "https://localhost:8080/"
        },
        "id": "RAIJNdevKzDg",
        "outputId": "33f85a5b-e4fe-441d-84db-2a6603d0123b"
      },
      "source": [
        "1-stats.norm.cdf(0.05,q,r)"
      ],
      "execution_count": null,
      "outputs": [
        {
          "output_type": "execute_result",
          "data": {
            "text/plain": [
              "0.2852295012236674"
            ]
          },
          "metadata": {
            "tags": []
          },
          "execution_count": 142
        }
      ]
    },
    {
      "cell_type": "markdown",
      "metadata": {
        "id": "J-7-YiZ9M8Aw"
      },
      "source": [
        "## ***Finding Probabiity of Stock at 5% Loss on date 05-02-2021***"
      ]
    },
    {
      "cell_type": "code",
      "metadata": {
        "colab": {
          "base_uri": "https://localhost:8080/"
        },
        "id": "ZKQZvXpYM-vh",
        "outputId": "c6104162-d90a-4a44-9934-96d45e4c19d7"
      },
      "source": [
        "stats.norm.cdf(-0.05,q,r)"
      ],
      "execution_count": null,
      "outputs": [
        {
          "output_type": "execute_result",
          "data": {
            "text/plain": [
              "0.005390313248051985"
            ]
          },
          "metadata": {
            "tags": []
          },
          "execution_count": 144
        }
      ]
    }
  ]
}